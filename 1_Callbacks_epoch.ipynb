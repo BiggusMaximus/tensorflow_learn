{
  "nbformat": 4,
  "nbformat_minor": 0,
  "metadata": {
    "colab": {
      "name": "1_Callbacks_epoch.ipynb",
      "provenance": [],
      "authorship_tag": "ABX9TyOnoQfjOXKpC09hqDf2HPhL",
      "include_colab_link": true
    },
    "kernelspec": {
      "name": "python3",
      "display_name": "Python 3"
    },
    "language_info": {
      "name": "python"
    },
    "accelerator": "GPU"
  },
  "cells": [
    {
      "cell_type": "markdown",
      "metadata": {
        "id": "view-in-github",
        "colab_type": "text"
      },
      "source": [
        "<a href=\"https://colab.research.google.com/github/BiggusMaximus/tensorflow_learn/blob/main/1_Callbacks_epoch.ipynb\" target=\"_parent\"><img src=\"https://colab.research.google.com/assets/colab-badge.svg\" alt=\"Open In Colab\"/></a>"
      ]
    },
    {
      "cell_type": "code",
      "execution_count": 1,
      "metadata": {
        "id": "bIrKfxsDu-EA"
      },
      "outputs": [],
      "source": [
        "import os\n",
        "import tensorflow as tf\n",
        "from tensorflow import keras\n"
      ]
    },
    {
      "cell_type": "code",
      "source": [
        "#menggunakan datasets mnist dari keras\n",
        "#load data mengembalikan (x_train, y_train), (x_test, y_test)\n",
        "\n",
        "\n",
        "(x_train, y_train), _ = tf.keras.datasets.mnist.load_data(path='mnist.npz')\n",
        "        \n",
        "# Normalize pixel values, untuk meningkatkan efisiensi gradien descent dan meminimalisr cost\n",
        "x_train = x_train / 255.0"
      ],
      "metadata": {
        "colab": {
          "base_uri": "https://localhost:8080/"
        },
        "id": "iN4Mg7SpvVve",
        "outputId": "c228d9d1-5a1b-45ab-cb0b-95db3e5c3f6d"
      },
      "execution_count": 2,
      "outputs": [
        {
          "output_type": "stream",
          "name": "stdout",
          "text": [
            "Downloading data from https://storage.googleapis.com/tensorflow/tf-keras-datasets/mnist.npz\n",
            "11493376/11490434 [==============================] - 0s 0us/step\n",
            "11501568/11490434 [==============================] - 0s 0us/step\n"
          ]
        }
      ]
    },
    {
      "cell_type": "code",
      "source": [
        "#dalam sumbu x,y,z\n",
        "\n",
        "datashape = x_train.shape\n",
        "print(f\"ada banyak : {datashape[0]} dan dimensi ({datashape[1], datashape[2]})\")"
      ],
      "metadata": {
        "colab": {
          "base_uri": "https://localhost:8080/"
        },
        "id": "E-S1lh8JvdAy",
        "outputId": "b05b3f1f-d73d-4f0e-9484-9bda38d00f9b"
      },
      "execution_count": 3,
      "outputs": [
        {
          "output_type": "stream",
          "name": "stdout",
          "text": [
            "ada banyak : 60000 dan dimensi ((28, 28))\n"
          ]
        }
      ]
    },
    {
      "cell_type": "code",
      "source": [
        "#mengakhiri epoch jika loss atau accuracy mencapai angka tertentu\n",
        "\n",
        "class asdd(tf.keras.callbacks.Callback):\n",
        "        # Define the correct function signature for on_epoch_end\n",
        "        def on_epoch_end(self, epoch, logs = {}):\n",
        "            if logs.get('accuracy') > 0.99: \n",
        "                print(\"\\nReached 99% accuracy so cancelling training!\") \n",
        "                \n",
        "                # Stop training once the above condition is met\n",
        "                self.model.stop_training = True\n"
      ],
      "metadata": {
        "id": "ZHozB28G2KNj"
      },
      "execution_count": 20,
      "outputs": []
    },
    {
      "cell_type": "code",
      "source": [
        "#train data\n",
        "\n",
        "def train_mnist(x_train, y_train):\n",
        "  #buat objek class\n",
        "  callbacks = asdd();\n",
        "  model = tf.keras.models.Sequential([\n",
        "                                      #mengubah/meratakan pixel 28,28 menjadi 1x784\n",
        "                                      tf.keras.layers.Flatten(input_shape = (28,28)),\n",
        "                                      #relu rectified linear unit\n",
        "                                      #dense layer dengan 512 unit relu activation\n",
        "                                      tf.keras.layers.Dense(512, activation = tf.nn.relu),\n",
        "                                      #dense layer dengan 10 unit softmax activation\n",
        "                                      tf.keras.layers.Dense(10, activation = tf.nn.softmax)\n",
        "  ])\n",
        "  model.compile(optimizer='adam', \n",
        "                loss='sparse_categorical_crossentropy', \n",
        "                metrics=['accuracy']) \n",
        "  \n",
        "  #melihat training history\n",
        "  history = model.fit(x_train, y_train, epochs=10, callbacks=[callbacks])\n",
        "  return history\n",
        "    "
      ],
      "metadata": {
        "id": "seCmjmJB2yrJ"
      },
      "execution_count": 21,
      "outputs": []
    },
    {
      "cell_type": "code",
      "source": [
        "hist = train_mnist(x_train, y_train)"
      ],
      "metadata": {
        "colab": {
          "base_uri": "https://localhost:8080/"
        },
        "id": "NN6X8jLE3GZX",
        "outputId": "bd957280-4dc0-48c9-8117-979eaaf58658"
      },
      "execution_count": 22,
      "outputs": [
        {
          "output_type": "stream",
          "name": "stdout",
          "text": [
            "Epoch 1/10\n",
            "1875/1875 [==============================] - 6s 3ms/step - loss: 0.2011 - accuracy: 0.9408\n",
            "Epoch 2/10\n",
            "1875/1875 [==============================] - 5s 3ms/step - loss: 0.0791 - accuracy: 0.9761\n",
            "Epoch 3/10\n",
            "1875/1875 [==============================] - 5s 3ms/step - loss: 0.0534 - accuracy: 0.9834\n",
            "Epoch 4/10\n",
            "1875/1875 [==============================] - 5s 3ms/step - loss: 0.0382 - accuracy: 0.9879\n",
            "Epoch 5/10\n",
            "1868/1875 [============================>.] - ETA: 0s - loss: 0.0275 - accuracy: 0.9911\n",
            "Reached 99% accuracy so cancelling training!\n",
            "1875/1875 [==============================] - 5s 3ms/step - loss: 0.0276 - accuracy: 0.9910\n"
          ]
        }
      ]
    },
    {
      "cell_type": "code",
      "source": [
        ""
      ],
      "metadata": {
        "id": "Kzsw1eZA6k6U"
      },
      "execution_count": 22,
      "outputs": []
    }
  ]
}